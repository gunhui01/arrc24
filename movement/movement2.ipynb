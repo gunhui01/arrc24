{
 "cells": [
  {
   "cell_type": "code",
   "execution_count": 1,
   "metadata": {},
   "outputs": [
    {
     "name": "stdout",
     "output_type": "stream",
     "text": [
      "Serial Opened! Baudrate=115200\n"
     ]
    }
   ],
   "source": [
    "from Transbot_Lib import Transbot\n",
    "from ipywidgets import interact\n",
    "import ipywidgets as widgets\n",
    "import time\n",
    "import math\n",
    "\n",
    "bot = Transbot()"
   ]
  },
  {
   "cell_type": "code",
   "execution_count": 2,
   "metadata": {},
   "outputs": [
    {
     "name": "stdout",
     "output_type": "stream",
     "text": [
      "----------------create receive threading--------------\n"
     ]
    }
   ],
   "source": [
    "# 데이터 수신 설정\n",
    "bot.create_receive_threading()\n",
    "bot.set_auto_report_state(True, forever=False)\n",
    "\n",
    "# 조명 설정\n",
    "bot.set_colorful_effect(5, speed=255, parm=255)\n",
    "\n",
    "# bot.get_imu_state()"
   ]
  },
  {
   "cell_type": "code",
   "execution_count": null,
   "metadata": {},
   "outputs": [],
   "source": [
    "# 가속도 데이터 확인\n",
    "try:\n",
    "    while True:\n",
    "        a_x, a_y, a_z = bot.get_accelerometer_data()\n",
    "        print(\"acce:\", a_x, a_y, a_z)\n",
    "        time.sleep(.1)\n",
    "except KeyboardInterrupt:\n",
    "    pass"
   ]
  },
  {
   "cell_type": "code",
   "execution_count": null,
   "metadata": {},
   "outputs": [],
   "source": [
    "# 자이로 데이터 확인\n",
    "try:\n",
    "    while True:\n",
    "        g_x, g_y, g_z = bot.get_gyroscope_data()\n",
    "        print(\"gyro:\", g_x, g_y, g_z)\n",
    "        time.sleep(.01)\n",
    "except KeyboardInterrupt:\n",
    "    pass"
   ]
  },
  {
   "cell_type": "code",
   "execution_count": null,
   "metadata": {},
   "outputs": [],
   "source": [
    "# PID 제어 설정\n",
    "kp = 0.05\n",
    "ki = 0.0\n",
    "kd = 4.0\n",
    "bot.set_pid_param(kp, ki, kd, forever=False)\n",
    "kp, ki, kd = bot.get_motion_pid()\n",
    "print(\"PID set to:\", kp, ki, kd)"
   ]
  },
  {
   "cell_type": "code",
   "execution_count": 3,
   "metadata": {},
   "outputs": [
    {
     "data": {
      "application/vnd.jupyter.widget-view+json": {
       "model_id": "f40b89345e0b4f3e8dcf719dfb09212a",
       "version_major": 2,
       "version_minor": 0
      },
      "text/plain": [
       "interactive(children=(IntSlider(value=0, description='line', max=45, min=-45), IntSlider(value=0, description=…"
      ]
     },
     "metadata": {},
     "output_type": "display_data"
    },
    {
     "data": {
      "text/plain": [
       "<function __main__.car_motion(line, angular)>"
      ]
     },
     "execution_count": 3,
     "metadata": {},
     "output_type": "execute_result"
    }
   ],
   "source": [
    "def car_motion(line, angular):\n",
    "    # 모터 부하 방지\n",
    "    if abs(line) >= 5 or abs(angular) >= 10:\n",
    "        speed_l = line / 100.0\n",
    "        speed_a = angular / 100.0\n",
    "        bot.set_car_motion(speed_l, speed_a)\n",
    "        return speed_l, speed_a\n",
    "    else:\n",
    "        bot.set_car_motion(0, 0)\n",
    "        return 0, 0\n",
    "\n",
    "interact(car_motion, line=widgets.IntSlider(min=-45,max=45,step=1,value=0), \\\n",
    "         angular=widgets.IntSlider(min=-200,max=200,step=1,value=0))"
   ]
  },
  {
   "cell_type": "code",
   "execution_count": null,
   "metadata": {},
   "outputs": [],
   "source": [
    "enable = True\n",
    "bot.set_imu_adjust(enable, forever=False)"
   ]
  },
  {
   "cell_type": "code",
   "execution_count": 5,
   "metadata": {},
   "outputs": [],
   "source": [
    "enable = False\n",
    "bot.set_imu_adjust(enable, forever=False)"
   ]
  },
  {
   "cell_type": "code",
   "execution_count": 6,
   "metadata": {},
   "outputs": [
    {
     "name": "stdout",
     "output_type": "stream",
     "text": [
      "imu state: False\n"
     ]
    }
   ],
   "source": [
    "state = bot.get_imu_state()\n",
    "print(\"imu state:\", state)"
   ]
  },
  {
   "cell_type": "code",
   "execution_count": 15,
   "metadata": {},
   "outputs": [],
   "source": [
    "def turn_right(degrees):\n",
    "    target_angle = degrees * (math.pi / 180)\n",
    "    current_angle = 0\n",
    "    previous_time = time.time()\n",
    "    bot.set_car_motion(0,-0.5)\n",
    "\n",
    "    while abs(current_angle) < abs(target_angle):\n",
    "        current_time = time.time()\n",
    "        dt = current_time - previous_time\n",
    "        previous_time = current_time\n",
    "\n",
    "        g_x, g_y, g_z = bot.get_gyroscope_data()\n",
    "        current_angle += g_z * dt\n",
    "\n",
    "        time.sleep(0.001)\n",
    "    bot.set_car_motion(0,0)"
   ]
  },
  {
   "cell_type": "code",
   "execution_count": 20,
   "metadata": {},
   "outputs": [],
   "source": [
    "def turn_right_pid(degrees, kp, ki, kd):\n",
    "    target_angle = degrees * (math.pi / 180)\n",
    "    current_angle = 0\n",
    "    previous_time = time.time()\n",
    "\n",
    "    integral = 0\n",
    "    previous_error = target_angle - current_angle\n",
    "\n",
    "    while abs(current_angle) < abs(target_angle):\n",
    "        current_time = time.time()\n",
    "        dt = current_time - previous_time\n",
    "        previous_time = current_time\n",
    "\n",
    "        g_x, g_y, g_z = bot.get_gyroscope_data()\n",
    "        current_angle += g_z * dt\n",
    "\n",
    "        error = target_angle - current_angle\n",
    "        integral += error * dt\n",
    "        derivative = (error - previous_error) / dt\n",
    "        previous_error = error\n",
    "\n",
    "        control_signal = kp * error + ki * integral + kd * derivative\n",
    "        control_signal = max(min(control_signal, 3), -3)\n",
    "\n",
    "        bot.set_motor_speed(0, -control_signal)\n",
    "\n",
    "        time.sleep(0.01)\n",
    "    bot.set_car_motion(0,0)"
   ]
  },
  {
   "cell_type": "code",
   "execution_count": 19,
   "metadata": {},
   "outputs": [],
   "source": [
    "turn_right(90)"
   ]
  },
  {
   "cell_type": "code",
   "execution_count": null,
   "metadata": {},
   "outputs": [],
   "source": [
    "turn_right_pid(90)"
   ]
  },
  {
   "cell_type": "code",
   "execution_count": 11,
   "metadata": {},
   "outputs": [],
   "source": [
    "bot.set_car_motion(0,0)"
   ]
  },
  {
   "cell_type": "code",
   "execution_count": null,
   "metadata": {},
   "outputs": [],
   "source": []
  },
  {
   "cell_type": "code",
   "execution_count": null,
   "metadata": {},
   "outputs": [],
   "source": []
  }
 ],
 "metadata": {
  "kernelspec": {
   "display_name": "arrc",
   "language": "python",
   "name": "python3"
  },
  "language_info": {
   "codemirror_mode": {
    "name": "ipython",
    "version": 3
   },
   "file_extension": ".py",
   "mimetype": "text/x-python",
   "name": "python",
   "nbconvert_exporter": "python",
   "pygments_lexer": "ipython3",
   "version": "3.12.4"
  }
 },
 "nbformat": 4,
 "nbformat_minor": 2
}
